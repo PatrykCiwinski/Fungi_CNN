{
  "nbformat": 4,
  "nbformat_minor": 0,
  "metadata": {
    "colab": {
      "provenance": [],
      "gpuType": "T4",
      "mount_file_id": "https://gist.github.com/PatrykCiwinski/33392465f4a92a29c55aab4d59416f80#file-grzyby-ipynb",
      "authorship_tag": "ABX9TyMO4I3vlFBfUzNdCVW/Kuib",
      "include_colab_link": true
    },
    "kernelspec": {
      "name": "python3",
      "display_name": "Python 3"
    },
    "language_info": {
      "name": "python"
    },
    "accelerator": "GPU",
    "gpuClass": "standard"
  },
  "cells": [
    {
      "cell_type": "markdown",
      "metadata": {
        "id": "view-in-github",
        "colab_type": "text"
      },
      "source": [
        "<a href=\"https://colab.research.google.com/github/PatrykCiwinski/Fungi_CNN/blob/main/grzyby.ipynb\" target=\"_parent\"><img src=\"https://colab.research.google.com/assets/colab-badge.svg\" alt=\"Open In Colab\"/></a>"
      ]
    },
    {
      "cell_type": "code",
      "execution_count": 11,
      "metadata": {
        "id": "i9cf1SaH0Ch1"
      },
      "outputs": [],
      "source": [
        "import requests\n",
        "from bs4 import BeautifulSoup\n",
        "from PIL import Image\n",
        "from io import BytesIO\n",
        "import os\n",
        "import random\n",
        "import numpy as np\n",
        "from numpy import asarray\n",
        "import matplotlib.pyplot as plt\n",
        "from matplotlib.image import imread\n",
        "import pandas as pd\n",
        "import seaborn as sns"
      ]
    },
    {
      "cell_type": "code",
      "source": [
        "podkategoria = 'grzyby'\n",
        "tagi = 'jadalne'\n",
        "strona = 1"
      ],
      "metadata": {
        "id": "mOUMb7dD0U6o"
      },
      "execution_count": 12,
      "outputs": []
    },
    {
      "cell_type": "code",
      "source": [
        "url = f'https://www.ekologia.pl/wiedza/grzyby/tagi,{tagi},s{strona}'"
      ],
      "metadata": {
        "id": "5F_el4dOaEfD"
      },
      "execution_count": 13,
      "outputs": []
    },
    {
      "cell_type": "code",
      "source": [
        "response = requests.get(url)\n",
        "content = response.content"
      ],
      "metadata": {
        "id": "QMqwjY52aGnr"
      },
      "execution_count": 14,
      "outputs": []
    },
    {
      "cell_type": "code",
      "source": [
        "soup = BeautifulSoup(content, 'html.parser')\n",
        "imgs = soup.select('div.pro_eko img')\n",
        "urls = [img['src'] for img in imgs]"
      ],
      "metadata": {
        "id": "IhnaH6L_aKUC"
      },
      "execution_count": 15,
      "outputs": []
    },
    {
      "cell_type": "code",
      "source": [
        "urls"
      ],
      "metadata": {
        "colab": {
          "base_uri": "https://localhost:8080/"
        },
        "id": "fltvNgevfHYA",
        "outputId": "6bb3ba47-bd45-449a-d75f-efe181eca74a"
      },
      "execution_count": 16,
      "outputs": [
        {
          "output_type": "execute_result",
          "data": {
            "text/plain": [
              "['https://zasoby.ekologia.pl/grzyby/a/301/shutterstock-1349274215_mini.jpg',\n",
              " 'https://zasoby.ekologia.pl/grzyby/a/266/shutterstock-701949721_mini.jpg',\n",
              " 'https://zasoby.ekologia.pl/grzyby/a/2/640px-boletus-impolitus_mini.jpg',\n",
              " 'https://zasoby.ekologia.pl/grzyby/a/302/shutterstock-1566904369_mini.jpg',\n",
              " 'https://zasoby.ekologia.pl/grzyby/a/11/6-borowik-szlachetny-boletus-edulis_mini.jpg',\n",
              " 'https://zasoby.ekologia.pl/grzyby/a/5/1280px-boletus_mini.jpg',\n",
              " 'https://zasoby.ekologia.pl/grzyby/a/254/800px-Butyriboletus-persolidus-72425-Novato-California-20091109-retouched_mini.jpg',\n",
              " 'https://zasoby.ekologia.pl/grzyby/a/67/800px-hand-utri_mini.jpg',\n",
              " 'https://zasoby.ekologia.pl/grzyby/a/68/czernidlak-kolpakowaty_mini.jpg',\n",
              " 'https://zasoby.ekologia.pl/grzyby/a/69/shutterstock-1824266690_mini.jpg',\n",
              " 'https://zasoby.ekologia.pl/grzyby/a/228/shutterstock-1568489815_mini.jpg',\n",
              " 'https://zasoby.ekologia.pl/grzyby/a/129/px-Chlorophyllum_rachodes_mini.jpg']"
            ]
          },
          "metadata": {},
          "execution_count": 16
        }
      ]
    },
    {
      "cell_type": "code",
      "source": [
        "response = requests.get(urls[5])\n",
        "content = response.content"
      ],
      "metadata": {
        "id": "vv0RCvuYadmS"
      },
      "execution_count": 17,
      "outputs": []
    },
    {
      "cell_type": "code",
      "source": [
        "img = Image.open(BytesIO(content))"
      ],
      "metadata": {
        "id": "cPT5SxLyalmh"
      },
      "execution_count": 18,
      "outputs": []
    },
    {
      "cell_type": "code",
      "source": [
        "img.save('grzybnia5.jpg')"
      ],
      "metadata": {
        "id": "zqXt76CzaoTp"
      },
      "execution_count": 19,
      "outputs": []
    },
    {
      "cell_type": "code",
      "source": [
        "def get_page(tagi,\n",
        "             strona):\n",
        "  \n",
        "  url = f'https://www.ekologia.pl/wiedza/grzyby/tagi,{tagi},s{strona}' \n",
        "  response = requests.get(url)\n",
        "  content = response.content\n",
        "  return content\n",
        "\n",
        "\n",
        "def parse_imgs_url(content):\n",
        "  soup = BeautifulSoup(content, 'html.parser')\n",
        "  imgs = soup.select('div.pro_eko img')\n",
        "  return [img['src'] for img in imgs]\n",
        "\n",
        "\n",
        "def get_image(url, path, tagi):\n",
        "    response = requests.get(url)\n",
        "    content = response.content\n",
        "    img = Image.open(BytesIO(content))\n",
        "    os.makedirs(f'{path}/{tagi}', exist_ok=True)\n",
        "    name=url.split('/')[-1].split('.')[0].split('_')[:2]\n",
        "    name=' '.join(map(str, name))\n",
        "    img.save(f'{path}/{tagi}/{name}.jpg')\n",
        "\n",
        "\n",
        "def get_data(tagi,\n",
        "             start_page,\n",
        "             end_page,\n",
        "             path):\n",
        "  \n",
        "  for strona in range(start_page, end_page + 1):\n",
        "    content = get_page(tagi, strona)\n",
        "    urls = parse_imgs_url(content)\n",
        "\n",
        "    for i, url in enumerate(urls):\n",
        "      get_image(url, path, tagi)\n",
        "      if i % 2 == 0:\n",
        "        print(f'Downloaded {i} for page {strona} from {tagi}')"
      ],
      "metadata": {
        "id": "AE66E48xb8XF"
      },
      "execution_count": 20,
      "outputs": []
    },
    {
      "cell_type": "code",
      "source": [
        "def get_first_page(tagi):\n",
        "  \n",
        "  url = f'https://www.ekologia.pl/wiedza/grzyby/tagi,{tagi}' \n",
        "  response = requests.get(url)\n",
        "  content = response.content\n",
        "  return content\n",
        "\n",
        "\n",
        "def get_data_first_page(tagi,\n",
        "             path):\n",
        "    content = get_first_page(tagi)\n",
        "    urls = parse_imgs_url(content)\n",
        "  "
      ],
      "metadata": {
        "id": "-D4scmTN4bTU"
      },
      "execution_count": 21,
      "outputs": []
    },
    {
      "cell_type": "code",
      "source": [
        "data_path = '/content/drive/MyDrive/grzyby1/data/train'"
      ],
      "metadata": {
        "id": "DsMU1HFH9zoz"
      },
      "execution_count": 22,
      "outputs": []
    },
    {
      "cell_type": "code",
      "source": [
        "get_data('jadalne',1,16,path = data_path)"
      ],
      "metadata": {
        "id": "b1LT1-2xUX7n"
      },
      "execution_count": null,
      "outputs": []
    },
    {
      "cell_type": "code",
      "source": [
        "get_data('niejadalne',1,16,path = data_path)"
      ],
      "metadata": {
        "id": "vFRFW4PmqK4q"
      },
      "execution_count": null,
      "outputs": []
    },
    {
      "cell_type": "code",
      "source": [
        "get_data('trujace',1,16,path = data_path)"
      ],
      "metadata": {
        "id": "yuT8AL3NFSC6"
      },
      "execution_count": null,
      "outputs": []
    },
    {
      "cell_type": "code",
      "source": [
        "get_data_first_page('jadalne',path = data_path)"
      ],
      "metadata": {
        "id": "frhkDSzG48Vy"
      },
      "execution_count": 26,
      "outputs": []
    },
    {
      "cell_type": "code",
      "source": [
        "get_data_first_page('niejadalne',path = data_path)"
      ],
      "metadata": {
        "id": "M7zuoV6_48NW"
      },
      "execution_count": 27,
      "outputs": []
    },
    {
      "cell_type": "code",
      "source": [
        "get_data_first_page('trujace',path = data_path)"
      ],
      "metadata": {
        "id": "4n4pH1MUFo62"
      },
      "execution_count": 28,
      "outputs": []
    },
    {
      "cell_type": "code",
      "source": [
        "data_path = '/content/drive/MyDrive/grzyby1/data'\n",
        "os.makedirs(data_path + '/test', exist_ok=True)\n",
        "test_size = 0.2\n",
        "\n",
        "for subcategory in ['jadalne', 'niejadalne', 'trujace']:\n",
        "  os.makedirs(data_path + '/test/' + subcategory, exist_ok=True)\n",
        "  file_list = os.listdir(data_path + '/train/' + subcategory)\n",
        "  number_of_samples = int(len(file_list) * test_size)\n",
        "  for file_name in random.sample(file_list, number_of_samples):\n",
        "    os.rename(data_path + '/train/' + subcategory + '/' + file_name,\n",
        "              data_path + '/test/' + subcategory + '/' + file_name)"
      ],
      "metadata": {
        "id": "CFH7BDWhA1zW"
      },
      "execution_count": 29,
      "outputs": []
    },
    {
      "cell_type": "code",
      "source": [
        "len(os.listdir(data_path + '/test/jadalne'))"
      ],
      "metadata": {
        "colab": {
          "base_uri": "https://localhost:8080/"
        },
        "id": "UbZU8QBuwmSY",
        "outputId": "2166e9d3-0536-4727-b518-eeb7c37ea0d8"
      },
      "execution_count": 31,
      "outputs": [
        {
          "output_type": "execute_result",
          "data": {
            "text/plain": [
              "35"
            ]
          },
          "metadata": {},
          "execution_count": 31
        }
      ]
    },
    {
      "cell_type": "code",
      "source": [
        "from tensorflow import keras"
      ],
      "metadata": {
        "id": "QXIVZNSyw2_p"
      },
      "execution_count": 32,
      "outputs": []
    },
    {
      "cell_type": "code",
      "source": [
        "import tensorflow as tf\n",
        "from tensorflow.keras.models import Sequential\n",
        "from tensorflow.keras import layers\n",
        "from tensorflow.keras.callbacks import EarlyStopping\n",
        "import keras.utils as image\n",
        "from tensorflow.keras.preprocessing.image import ImageDataGenerator"
      ],
      "metadata": {
        "id": "vPc2mpxCxxGL"
      },
      "execution_count": 33,
      "outputs": []
    },
    {
      "cell_type": "code",
      "source": [
        "image_gen = ImageDataGenerator()"
      ],
      "metadata": {
        "id": "bZSQ4VkvqdwJ"
      },
      "execution_count": 34,
      "outputs": []
    },
    {
      "cell_type": "code",
      "source": [
        "dim1 = []\n",
        "dim2 = []\n",
        "for name in os.listdir('/content/drive/MyDrive/grzyby1/data/train/jadalne'):\n",
        "    \n",
        "    img = imread('/content/drive/MyDrive/grzyby1/data/train/jadalne'+'/'+name)\n",
        "    d1,d2,colors = img.shape\n",
        "    dim1.append(d1)\n",
        "    dim2.append(d2)"
      ],
      "metadata": {
        "id": "9BM4OJVSro0Z"
      },
      "execution_count": 35,
      "outputs": []
    },
    {
      "cell_type": "code",
      "source": [
        "np.mean(dim1)"
      ],
      "metadata": {
        "colab": {
          "base_uri": "https://localhost:8080/"
        },
        "id": "4e7BAcTAs24e",
        "outputId": "0b862ff9-8c11-4188-a532-dd96e8560c9a"
      },
      "execution_count": 36,
      "outputs": [
        {
          "output_type": "execute_result",
          "data": {
            "text/plain": [
              "115.0"
            ]
          },
          "metadata": {},
          "execution_count": 36
        }
      ]
    },
    {
      "cell_type": "code",
      "source": [
        "np.mean(dim2)"
      ],
      "metadata": {
        "colab": {
          "base_uri": "https://localhost:8080/"
        },
        "id": "DSmFt3uJs3g_",
        "outputId": "b0d65015-680f-4cd9-8fd5-d7bd0ba873aa"
      },
      "execution_count": 37,
      "outputs": [
        {
          "output_type": "execute_result",
          "data": {
            "text/plain": [
              "170.03521126760563"
            ]
          },
          "metadata": {},
          "execution_count": 37
        }
      ]
    },
    {
      "cell_type": "code",
      "source": [
        "image_shape = (115,170,3)"
      ],
      "metadata": {
        "id": "qRxrVVVks7rX"
      },
      "execution_count": 38,
      "outputs": []
    },
    {
      "cell_type": "code",
      "source": [
        "batch_size=16"
      ],
      "metadata": {
        "id": "VGcJb3uutOQG"
      },
      "execution_count": 41,
      "outputs": []
    },
    {
      "cell_type": "code",
      "source": [
        "train_image_gen = image_gen.flow_from_directory('/content/drive/MyDrive/grzyby1/data/train',\n",
        "                                               target_size=image_shape[:2],\n",
        "                                                color_mode='rgb',\n",
        "                                               batch_size=batch_size,\n",
        "                                               class_mode='categorical')"
      ],
      "metadata": {
        "colab": {
          "base_uri": "https://localhost:8080/"
        },
        "id": "IN-nCu0urT3H",
        "outputId": "89a6aeba-0f99-403a-a14b-939c58c1776a"
      },
      "execution_count": 44,
      "outputs": [
        {
          "output_type": "stream",
          "name": "stdout",
          "text": [
            "Found 321 images belonging to 3 classes.\n"
          ]
        }
      ]
    },
    {
      "cell_type": "code",
      "source": [
        "test_image_gen = image_gen.flow_from_directory('/content/drive/MyDrive/grzyby1/data/test',\n",
        "                                               target_size=image_shape[:2],\n",
        "                                               color_mode='rgb',\n",
        "                                               batch_size=batch_size,\n",
        "                                               class_mode='categorical',shuffle=False)"
      ],
      "metadata": {
        "colab": {
          "base_uri": "https://localhost:8080/"
        },
        "id": "0uKEQnIktckd",
        "outputId": "49354342-6abe-49c4-b871-cadeabab1d9e"
      },
      "execution_count": 45,
      "outputs": [
        {
          "output_type": "stream",
          "name": "stdout",
          "text": [
            "Found 78 images belonging to 3 classes.\n"
          ]
        }
      ]
    },
    {
      "cell_type": "code",
      "source": [
        "train_image_gen.class_indices"
      ],
      "metadata": {
        "colab": {
          "base_uri": "https://localhost:8080/"
        },
        "id": "LQ6MKJRvtm2u",
        "outputId": "07c60c3e-9435-48a1-83f4-448eef3035ef"
      },
      "execution_count": 46,
      "outputs": [
        {
          "output_type": "execute_result",
          "data": {
            "text/plain": [
              "{'jadalne': 0, 'niejadalne': 1, 'trujace': 2}"
            ]
          },
          "metadata": {},
          "execution_count": 46
        }
      ]
    },
    {
      "cell_type": "code",
      "source": [
        "model = Sequential()\n",
        "\n",
        "model.add(layers.Conv2D(filters=32, kernel_size=(3,3),input_shape=image_shape, activation='relu',))\n",
        "model.add(layers.MaxPooling2D(pool_size=(2, 2)))\n",
        "\n",
        "model.add(layers.Conv2D(filters=64, kernel_size=(3,3),input_shape=image_shape, activation='relu',))\n",
        "model.add(layers.MaxPooling2D(pool_size=(2, 2)))\n",
        "\n",
        "model.add(layers.Conv2D(filters=64, kernel_size=(3,3),input_shape=image_shape, activation='relu',))\n",
        "model.add(layers.MaxPooling2D(pool_size=(2, 2)))\n",
        "\n",
        "\n",
        "model.add(layers.Flatten())\n",
        "\n",
        "\n",
        "model.add(layers.Dense(128))\n",
        "model.add(layers.Activation('relu'))\n",
        "\n",
        "model.add(layers.Dropout(0.5))\n",
        "\n",
        "\n",
        "model.add(layers.Dense(3))\n",
        "model.add(layers.Activation('softmax'))\n",
        "\n",
        "model.compile(loss='categorical_crossentropy',\n",
        "              optimizer='adam',\n",
        "              metrics=['accuracy'])"
      ],
      "metadata": {
        "id": "pXQJknlvyjb6"
      },
      "execution_count": 47,
      "outputs": []
    },
    {
      "cell_type": "code",
      "source": [
        "early_stop = EarlyStopping(monitor='val_loss',patience=3)"
      ],
      "metadata": {
        "id": "s3zpBZ-LBmVo"
      },
      "execution_count": 48,
      "outputs": []
    },
    {
      "cell_type": "code",
      "source": [
        "history = model.fit(train_image_gen,epochs=20,\n",
        "                              validation_data=test_image_gen,\n",
        "                             callbacks=[early_stop])"
      ],
      "metadata": {
        "id": "pCovtyerzm8o",
        "colab": {
          "base_uri": "https://localhost:8080/"
        },
        "outputId": "4c6562c7-17a5-4e12-fd9b-9fd4562b9224"
      },
      "execution_count": 49,
      "outputs": [
        {
          "output_type": "stream",
          "name": "stdout",
          "text": [
            "Epoch 1/20\n",
            "21/21 [==============================] - 12s 62ms/step - loss: 28.1515 - accuracy: 0.4050 - val_loss: 1.0136 - val_accuracy: 0.4103\n",
            "Epoch 2/20\n",
            "21/21 [==============================] - 1s 25ms/step - loss: 1.0683 - accuracy: 0.4922 - val_loss: 0.9838 - val_accuracy: 0.4103\n",
            "Epoch 3/20\n",
            "21/21 [==============================] - 1s 35ms/step - loss: 0.9382 - accuracy: 0.5545 - val_loss: 1.0666 - val_accuracy: 0.4359\n",
            "Epoch 4/20\n",
            "21/21 [==============================] - 1s 36ms/step - loss: 0.8208 - accuracy: 0.6604 - val_loss: 1.0588 - val_accuracy: 0.5000\n",
            "Epoch 5/20\n",
            "21/21 [==============================] - 1s 24ms/step - loss: 0.6032 - accuracy: 0.7570 - val_loss: 1.2230 - val_accuracy: 0.4359\n",
            "Epoch 6/20\n",
            "21/21 [==============================] - 1s 23ms/step - loss: 0.4728 - accuracy: 0.8100 - val_loss: 1.3531 - val_accuracy: 0.4359\n",
            "Epoch 7/20\n",
            "21/21 [==============================] - 1s 23ms/step - loss: 0.4086 - accuracy: 0.8754 - val_loss: 1.3125 - val_accuracy: 0.4872\n",
            "Epoch 8/20\n",
            "21/21 [==============================] - 0s 23ms/step - loss: 0.2903 - accuracy: 0.9097 - val_loss: 1.7002 - val_accuracy: 0.3846\n",
            "Epoch 9/20\n",
            "21/21 [==============================] - 0s 22ms/step - loss: 0.2094 - accuracy: 0.9283 - val_loss: 1.7442 - val_accuracy: 0.4872\n",
            "Epoch 10/20\n",
            "21/21 [==============================] - 1s 24ms/step - loss: 0.1493 - accuracy: 0.9688 - val_loss: 1.8462 - val_accuracy: 0.4872\n",
            "Epoch 11/20\n",
            "21/21 [==============================] - 0s 22ms/step - loss: 0.1239 - accuracy: 0.9626 - val_loss: 2.1597 - val_accuracy: 0.4615\n",
            "Epoch 12/20\n",
            "21/21 [==============================] - 0s 23ms/step - loss: 0.1667 - accuracy: 0.9688 - val_loss: 1.9220 - val_accuracy: 0.5128\n"
          ]
        }
      ]
    },
    {
      "cell_type": "code",
      "source": [
        "my_image = image.load_img('/content/drive/MyDrive/grzyby1/data/train/trujace/800px-paxillus-involutus-g2 mini.jpg',target_size=image_shape)"
      ],
      "metadata": {
        "id": "_TKFMVQE-fQy"
      },
      "execution_count": 50,
      "outputs": []
    },
    {
      "cell_type": "code",
      "source": [
        "my_image = image.img_to_array(my_image)"
      ],
      "metadata": {
        "id": "ndhMtUFvzxPp"
      },
      "execution_count": 51,
      "outputs": []
    },
    {
      "cell_type": "code",
      "source": [
        "my_image = np.expand_dims(my_image, axis=0)"
      ],
      "metadata": {
        "id": "jrA1_JRT17FC"
      },
      "execution_count": 52,
      "outputs": []
    },
    {
      "cell_type": "code",
      "source": [
        "my_image.shape"
      ],
      "metadata": {
        "id": "Q-eCSZ-iBrI9",
        "colab": {
          "base_uri": "https://localhost:8080/"
        },
        "outputId": "0f400b27-4450-4d88-dca9-0ecddd076214"
      },
      "execution_count": 53,
      "outputs": [
        {
          "output_type": "execute_result",
          "data": {
            "text/plain": [
              "(1, 115, 170, 3)"
            ]
          },
          "metadata": {},
          "execution_count": 53
        }
      ]
    },
    {
      "cell_type": "code",
      "source": [
        "predict=model.predict(my_image)\n",
        "predictions=np.argmax(predict,axis=1)"
      ],
      "metadata": {
        "id": "QQzz_HUH_Dfq",
        "colab": {
          "base_uri": "https://localhost:8080/"
        },
        "outputId": "202618eb-e1f2-428e-a1ca-20c2f9f1d836"
      },
      "execution_count": 54,
      "outputs": [
        {
          "output_type": "stream",
          "name": "stdout",
          "text": [
            "1/1 [==============================] - 0s 106ms/step\n"
          ]
        }
      ]
    },
    {
      "cell_type": "code",
      "source": [
        "predictions"
      ],
      "metadata": {
        "colab": {
          "base_uri": "https://localhost:8080/"
        },
        "id": "czoJQDV1DG9e",
        "outputId": "551d8e6a-6644-4700-8e09-a015768ace04"
      },
      "execution_count": 55,
      "outputs": [
        {
          "output_type": "execute_result",
          "data": {
            "text/plain": [
              "array([2])"
            ]
          },
          "metadata": {},
          "execution_count": 55
        }
      ]
    },
    {
      "cell_type": "code",
      "source": [
        "test_image_gen.class_indices"
      ],
      "metadata": {
        "id": "JKuNwRnRynI7",
        "colab": {
          "base_uri": "https://localhost:8080/"
        },
        "outputId": "d6d8f99a-ac25-499c-dd64-1fef2dd0a03c"
      },
      "execution_count": 56,
      "outputs": [
        {
          "output_type": "execute_result",
          "data": {
            "text/plain": [
              "{'jadalne': 0, 'niejadalne': 1, 'trujace': 2}"
            ]
          },
          "metadata": {},
          "execution_count": 56
        }
      ]
    },
    {
      "cell_type": "code",
      "source": [],
      "metadata": {
        "id": "xtzg_C_1BkRU"
      },
      "execution_count": null,
      "outputs": []
    }
  ]
}