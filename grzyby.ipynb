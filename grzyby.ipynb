{
  "nbformat": 4,
  "nbformat_minor": 0,
  "metadata": {
    "colab": {
      "provenance": [],
      "gpuType": "T4",
      "mount_file_id": "1Vm0EqXHOlvHS690OMC7XafqzaYZCwF-Y",
      "authorship_tag": "ABX9TyOmEwTw4xQ6cVWQ6OOhKtX8",
      "include_colab_link": true
    },
    "kernelspec": {
      "name": "python3",
      "display_name": "Python 3"
    },
    "language_info": {
      "name": "python"
    },
    "accelerator": "GPU",
    "gpuClass": "standard"
  },
  "cells": [
    {
      "cell_type": "markdown",
      "metadata": {
        "id": "view-in-github",
        "colab_type": "text"
      },
      "source": [
        "<a href=\"https://colab.research.google.com/github/PatrykCiwinski/Fungi_CNN/blob/main/grzyby.ipynb\" target=\"_parent\"><img src=\"https://colab.research.google.com/assets/colab-badge.svg\" alt=\"Open In Colab\"/></a>"
      ]
    },
    {
      "cell_type": "code",
      "execution_count": null,
      "metadata": {
        "id": "i9cf1SaH0Ch1"
      },
      "outputs": [],
      "source": [
        "import requests\n",
        "from bs4 import BeautifulSoup\n",
        "from PIL import Image\n",
        "from io import BytesIO\n",
        "import os\n",
        "import random\n",
        "import numpy as np\n",
        "from numpy import asarray\n",
        "import matplotlib.pyplot as plt\n",
        "from matplotlib.image import imread\n",
        "import pandas as pd\n",
        "import seaborn as sns"
      ]
    },
    {
      "cell_type": "code",
      "source": [
        "podkategoria = 'grzyby'\n",
        "tagi = 'jadalne'\n",
        "strona = 1"
      ],
      "metadata": {
        "id": "mOUMb7dD0U6o"
      },
      "execution_count": null,
      "outputs": []
    },
    {
      "cell_type": "code",
      "source": [
        "url = f'https://www.ekologia.pl/wiedza/grzyby/tagi,{tagi},s{strona}'"
      ],
      "metadata": {
        "id": "5F_el4dOaEfD"
      },
      "execution_count": null,
      "outputs": []
    },
    {
      "cell_type": "code",
      "source": [
        "response = requests.get(url)\n",
        "content = response.content"
      ],
      "metadata": {
        "id": "QMqwjY52aGnr"
      },
      "execution_count": null,
      "outputs": []
    },
    {
      "cell_type": "code",
      "source": [
        "soup = BeautifulSoup(content, 'html.parser')\n",
        "imgs = soup.select('div.pro_eko img')\n",
        "urls = [img['src'] for img in imgs]"
      ],
      "metadata": {
        "id": "IhnaH6L_aKUC"
      },
      "execution_count": null,
      "outputs": []
    },
    {
      "cell_type": "code",
      "source": [
        "urls"
      ],
      "metadata": {
        "colab": {
          "base_uri": "https://localhost:8080/"
        },
        "id": "fltvNgevfHYA",
        "outputId": "018e031e-9f28-4e1c-84eb-a1addac95c01"
      },
      "execution_count": null,
      "outputs": [
        {
          "output_type": "execute_result",
          "data": {
            "text/plain": [
              "['https://zasoby.ekologia.pl/grzyby/a/301/shutterstock-1349274215_mini.jpg',\n",
              " 'https://zasoby.ekologia.pl/grzyby/a/266/shutterstock-701949721_mini.jpg',\n",
              " 'https://zasoby.ekologia.pl/grzyby/a/2/640px-boletus-impolitus_mini.jpg',\n",
              " 'https://zasoby.ekologia.pl/grzyby/a/302/shutterstock-1566904369_mini.jpg',\n",
              " 'https://zasoby.ekologia.pl/grzyby/a/11/6-borowik-szlachetny-boletus-edulis_mini.jpg',\n",
              " 'https://zasoby.ekologia.pl/grzyby/a/5/1280px-boletus_mini.jpg',\n",
              " 'https://zasoby.ekologia.pl/grzyby/a/254/800px-Butyriboletus-persolidus-72425-Novato-California-20091109-retouched_mini.jpg',\n",
              " 'https://zasoby.ekologia.pl/grzyby/a/67/800px-hand-utri_mini.jpg',\n",
              " 'https://zasoby.ekologia.pl/grzyby/a/68/czernidlak-kolpakowaty_mini.jpg',\n",
              " 'https://zasoby.ekologia.pl/grzyby/a/69/shutterstock-1824266690_mini.jpg',\n",
              " 'https://zasoby.ekologia.pl/grzyby/a/228/shutterstock-1568489815_mini.jpg',\n",
              " 'https://zasoby.ekologia.pl/grzyby/a/129/px-Chlorophyllum_rachodes_mini.jpg']"
            ]
          },
          "metadata": {},
          "execution_count": 67
        }
      ]
    },
    {
      "cell_type": "code",
      "source": [
        "response = requests.get(urls[5])\n",
        "content = response.content"
      ],
      "metadata": {
        "id": "vv0RCvuYadmS"
      },
      "execution_count": null,
      "outputs": []
    },
    {
      "cell_type": "code",
      "source": [
        "img = Image.open(BytesIO(content))"
      ],
      "metadata": {
        "id": "cPT5SxLyalmh"
      },
      "execution_count": null,
      "outputs": []
    },
    {
      "cell_type": "code",
      "source": [
        "img.save('grzybnia5.jpg')"
      ],
      "metadata": {
        "id": "zqXt76CzaoTp"
      },
      "execution_count": null,
      "outputs": []
    },
    {
      "cell_type": "code",
      "source": [
        "def get_page(tagi,\n",
        "             strona):\n",
        "  \n",
        "  url = f'https://www.ekologia.pl/wiedza/grzyby/tagi,{tagi},s{strona}' \n",
        "  response = requests.get(url)\n",
        "  content = response.content\n",
        "  return content\n",
        "\n",
        "\n",
        "def parse_imgs_url(content):\n",
        "  soup = BeautifulSoup(content, 'html.parser')\n",
        "  imgs = soup.select('div.pro_eko img')\n",
        "  return [img['src'] for img in imgs]\n",
        "\n",
        "\n",
        "def get_image(url, path, tagi):\n",
        "    response = requests.get(url)\n",
        "    content = response.content\n",
        "    img = Image.open(BytesIO(content))\n",
        "    os.makedirs(f'{path}/{tagi}', exist_ok=True)\n",
        "    name=url.split('/')[-1].split('.')[0].split('_')[:2]\n",
        "    name=' '.join(map(str, name))\n",
        "    img.save(f'{path}/{tagi}/{name}.jpg')\n",
        "\n",
        "\n",
        "def get_data(tagi,\n",
        "             start_page,\n",
        "             end_page,\n",
        "             path):\n",
        "  \n",
        "  for strona in range(start_page, end_page + 1):\n",
        "    content = get_page(tagi, strona)\n",
        "    urls = parse_imgs_url(content)\n",
        "\n",
        "    for i, url in enumerate(urls):\n",
        "      get_image(url, path, tagi)\n",
        "      if i % 2 == 0:\n",
        "        print(f'Downloaded {i} for page {strona} from {tagi}')"
      ],
      "metadata": {
        "id": "AE66E48xb8XF"
      },
      "execution_count": null,
      "outputs": []
    },
    {
      "cell_type": "code",
      "source": [
        "def get_first_page(tagi):\n",
        "  \n",
        "  url = f'https://www.ekologia.pl/wiedza/grzyby/tagi,{tagi}' \n",
        "  response = requests.get(url)\n",
        "  content = response.content\n",
        "  return content\n",
        "\n",
        "\n",
        "def get_data_first_page(tagi,\n",
        "             path):\n",
        "    content = get_first_page(tagi)\n",
        "    urls = parse_imgs_url(content)\n",
        "  "
      ],
      "metadata": {
        "id": "-D4scmTN4bTU"
      },
      "execution_count": null,
      "outputs": []
    },
    {
      "cell_type": "code",
      "source": [
        "data_path = '/content/drive/MyDrive/grzyby1/data/train'"
      ],
      "metadata": {
        "id": "DsMU1HFH9zoz"
      },
      "execution_count": null,
      "outputs": []
    },
    {
      "cell_type": "code",
      "source": [
        "get_data('jadalne',1,16,path = data_path)"
      ],
      "metadata": {
        "id": "b1LT1-2xUX7n"
      },
      "execution_count": null,
      "outputs": []
    },
    {
      "cell_type": "code",
      "source": [
        "get_data('niejadalne',1,16,path = data_path)"
      ],
      "metadata": {
        "colab": {
          "base_uri": "https://localhost:8080/"
        },
        "id": "vFRFW4PmqK4q",
        "outputId": "91df5f18-e491-4b5d-e10e-ea75a34b8c0b"
      },
      "execution_count": null,
      "outputs": [
        {
          "output_type": "stream",
          "name": "stdout",
          "text": [
            "Downloaded 0 for page 1 from niejadalne\n",
            "Downloaded 2 for page 1 from niejadalne\n",
            "Downloaded 4 for page 1 from niejadalne\n",
            "Downloaded 6 for page 1 from niejadalne\n",
            "Downloaded 8 for page 1 from niejadalne\n",
            "Downloaded 10 for page 1 from niejadalne\n",
            "Downloaded 0 for page 2 from niejadalne\n",
            "Downloaded 2 for page 2 from niejadalne\n",
            "Downloaded 4 for page 2 from niejadalne\n",
            "Downloaded 6 for page 2 from niejadalne\n",
            "Downloaded 8 for page 2 from niejadalne\n",
            "Downloaded 10 for page 2 from niejadalne\n",
            "Downloaded 0 for page 3 from niejadalne\n",
            "Downloaded 2 for page 3 from niejadalne\n",
            "Downloaded 4 for page 3 from niejadalne\n",
            "Downloaded 6 for page 3 from niejadalne\n",
            "Downloaded 8 for page 3 from niejadalne\n",
            "Downloaded 10 for page 3 from niejadalne\n",
            "Downloaded 0 for page 4 from niejadalne\n",
            "Downloaded 2 for page 4 from niejadalne\n",
            "Downloaded 4 for page 4 from niejadalne\n",
            "Downloaded 6 for page 4 from niejadalne\n",
            "Downloaded 8 for page 4 from niejadalne\n",
            "Downloaded 10 for page 4 from niejadalne\n",
            "Downloaded 0 for page 5 from niejadalne\n",
            "Downloaded 2 for page 5 from niejadalne\n",
            "Downloaded 4 for page 5 from niejadalne\n",
            "Downloaded 6 for page 5 from niejadalne\n",
            "Downloaded 8 for page 5 from niejadalne\n",
            "Downloaded 10 for page 5 from niejadalne\n",
            "Downloaded 0 for page 6 from niejadalne\n",
            "Downloaded 2 for page 6 from niejadalne\n",
            "Downloaded 4 for page 6 from niejadalne\n",
            "Downloaded 6 for page 6 from niejadalne\n",
            "Downloaded 8 for page 6 from niejadalne\n",
            "Downloaded 10 for page 6 from niejadalne\n",
            "Downloaded 0 for page 7 from niejadalne\n",
            "Downloaded 2 for page 7 from niejadalne\n",
            "Downloaded 4 for page 7 from niejadalne\n",
            "Downloaded 6 for page 7 from niejadalne\n",
            "Downloaded 8 for page 7 from niejadalne\n",
            "Downloaded 10 for page 7 from niejadalne\n",
            "Downloaded 0 for page 8 from niejadalne\n",
            "Downloaded 2 for page 8 from niejadalne\n",
            "Downloaded 4 for page 8 from niejadalne\n",
            "Downloaded 6 for page 8 from niejadalne\n",
            "Downloaded 8 for page 8 from niejadalne\n",
            "Downloaded 10 for page 8 from niejadalne\n",
            "Downloaded 0 for page 9 from niejadalne\n",
            "Downloaded 2 for page 9 from niejadalne\n",
            "Downloaded 4 for page 9 from niejadalne\n",
            "Downloaded 6 for page 9 from niejadalne\n",
            "Downloaded 8 for page 9 from niejadalne\n",
            "Downloaded 10 for page 9 from niejadalne\n",
            "Downloaded 0 for page 10 from niejadalne\n",
            "Downloaded 2 for page 10 from niejadalne\n",
            "Downloaded 4 for page 10 from niejadalne\n",
            "Downloaded 6 for page 10 from niejadalne\n",
            "Downloaded 8 for page 10 from niejadalne\n",
            "Downloaded 10 for page 10 from niejadalne\n",
            "Downloaded 0 for page 11 from niejadalne\n",
            "Downloaded 2 for page 11 from niejadalne\n",
            "Downloaded 4 for page 11 from niejadalne\n",
            "Downloaded 6 for page 11 from niejadalne\n",
            "Downloaded 8 for page 11 from niejadalne\n",
            "Downloaded 10 for page 11 from niejadalne\n",
            "Downloaded 0 for page 12 from niejadalne\n",
            "Downloaded 2 for page 12 from niejadalne\n",
            "Downloaded 4 for page 12 from niejadalne\n",
            "Downloaded 6 for page 12 from niejadalne\n",
            "Downloaded 8 for page 12 from niejadalne\n",
            "Downloaded 10 for page 12 from niejadalne\n",
            "Downloaded 0 for page 13 from niejadalne\n",
            "Downloaded 2 for page 13 from niejadalne\n",
            "Downloaded 4 for page 13 from niejadalne\n",
            "Downloaded 6 for page 13 from niejadalne\n",
            "Downloaded 8 for page 13 from niejadalne\n",
            "Downloaded 10 for page 13 from niejadalne\n",
            "Downloaded 0 for page 14 from niejadalne\n",
            "Downloaded 2 for page 14 from niejadalne\n",
            "Downloaded 4 for page 14 from niejadalne\n",
            "Downloaded 6 for page 14 from niejadalne\n",
            "Downloaded 8 for page 14 from niejadalne\n",
            "Downloaded 10 for page 14 from niejadalne\n",
            "Downloaded 0 for page 15 from niejadalne\n",
            "Downloaded 2 for page 15 from niejadalne\n",
            "Downloaded 4 for page 15 from niejadalne\n",
            "Downloaded 6 for page 15 from niejadalne\n"
          ]
        }
      ]
    },
    {
      "cell_type": "code",
      "source": [
        "get_data('trujace',1,16,path = data_path)"
      ],
      "metadata": {
        "colab": {
          "base_uri": "https://localhost:8080/"
        },
        "id": "yuT8AL3NFSC6",
        "outputId": "46159c90-ddb8-4962-c2e7-807955dedd2f"
      },
      "execution_count": null,
      "outputs": [
        {
          "output_type": "stream",
          "name": "stdout",
          "text": [
            "Downloaded 0 for page 1 from trujace\n",
            "Downloaded 2 for page 1 from trujace\n",
            "Downloaded 4 for page 1 from trujace\n",
            "Downloaded 6 for page 1 from trujace\n",
            "Downloaded 8 for page 1 from trujace\n",
            "Downloaded 10 for page 1 from trujace\n",
            "Downloaded 0 for page 2 from trujace\n",
            "Downloaded 2 for page 2 from trujace\n",
            "Downloaded 4 for page 2 from trujace\n",
            "Downloaded 6 for page 2 from trujace\n",
            "Downloaded 8 for page 2 from trujace\n",
            "Downloaded 10 for page 2 from trujace\n",
            "Downloaded 0 for page 3 from trujace\n",
            "Downloaded 2 for page 3 from trujace\n",
            "Downloaded 4 for page 3 from trujace\n",
            "Downloaded 6 for page 3 from trujace\n",
            "Downloaded 8 for page 3 from trujace\n",
            "Downloaded 10 for page 3 from trujace\n",
            "Downloaded 0 for page 4 from trujace\n",
            "Downloaded 2 for page 4 from trujace\n",
            "Downloaded 4 for page 4 from trujace\n",
            "Downloaded 6 for page 4 from trujace\n",
            "Downloaded 8 for page 4 from trujace\n",
            "Downloaded 10 for page 4 from trujace\n",
            "Downloaded 0 for page 5 from trujace\n"
          ]
        }
      ]
    },
    {
      "cell_type": "code",
      "source": [
        "get_data_first_page('jadalne',path = data_path)"
      ],
      "metadata": {
        "id": "frhkDSzG48Vy"
      },
      "execution_count": null,
      "outputs": []
    },
    {
      "cell_type": "code",
      "source": [
        "get_data_first_page('niejadalne',path = data_path)"
      ],
      "metadata": {
        "id": "M7zuoV6_48NW"
      },
      "execution_count": null,
      "outputs": []
    },
    {
      "cell_type": "code",
      "source": [
        "get_data_first_page('trujace',path = data_path)"
      ],
      "metadata": {
        "id": "4n4pH1MUFo62"
      },
      "execution_count": null,
      "outputs": []
    },
    {
      "cell_type": "code",
      "source": [
        "data_path = '/content/drive/MyDrive/grzyby1/data'\n",
        "os.makedirs(data_path + '/test', exist_ok=True)\n",
        "test_size = 0.2\n",
        "\n",
        "for subcategory in ['jadalne', 'niejadalne', 'trujace']:\n",
        "  os.makedirs(data_path + '/test/' + subcategory, exist_ok=True)\n",
        "  file_list = os.listdir(data_path + '/train/' + subcategory)\n",
        "  number_of_samples = int(len(file_list) * test_size)\n",
        "  for file_name in random.sample(file_list, number_of_samples):\n",
        "    os.rename(data_path + '/train/' + subcategory + '/' + file_name,\n",
        "              data_path + '/test/' + subcategory + '/' + file_name)"
      ],
      "metadata": {
        "id": "CFH7BDWhA1zW"
      },
      "execution_count": null,
      "outputs": []
    },
    {
      "cell_type": "code",
      "source": [
        "len(os.listdir(data_path + '/train/jadalne'))"
      ],
      "metadata": {
        "colab": {
          "base_uri": "https://localhost:8080/"
        },
        "id": "UbZU8QBuwmSY",
        "outputId": "1dc7f531-fe91-486f-c2de-213103e1b87d"
      },
      "execution_count": null,
      "outputs": [
        {
          "output_type": "execute_result",
          "data": {
            "text/plain": [
              "136"
            ]
          },
          "metadata": {},
          "execution_count": 82
        }
      ]
    },
    {
      "cell_type": "code",
      "source": [
        "from tensorflow import keras"
      ],
      "metadata": {
        "id": "QXIVZNSyw2_p"
      },
      "execution_count": null,
      "outputs": []
    },
    {
      "cell_type": "code",
      "source": [
        "import tensorflow as tf\n",
        "from tensorflow.keras.models import Sequential\n",
        "from tensorflow.keras import layers\n",
        "from tensorflow.keras.callbacks import EarlyStopping\n",
        "import keras.utils as image\n",
        "from tensorflow.keras.preprocessing.image import ImageDataGenerator"
      ],
      "metadata": {
        "id": "vPc2mpxCxxGL"
      },
      "execution_count": null,
      "outputs": []
    },
    {
      "cell_type": "code",
      "source": [
        "image_gen = ImageDataGenerator(rotation_range=20, # rotate the image 20 degrees\n",
        "                               width_shift_range=0.10, # Shift the pic width by a max of 5%\n",
        "                               height_shift_range=0.10, # Shift the pic height by a max of 5%\n",
        "                               rescale=1/255, # Rescale the image by normalzing it.\n",
        "                               shear_range=0.1, # Shear means cutting away part of the image (max 10%)\n",
        "                               zoom_range=0.1, # Zoom in by 10% max\n",
        "                               horizontal_flip=True, # Allo horizontal flipping\n",
        "                               fill_mode='nearest' # Fill in missing pixels with the nearest filled value\n",
        "                              )"
      ],
      "metadata": {
        "id": "bZSQ4VkvqdwJ"
      },
      "execution_count": null,
      "outputs": []
    },
    {
      "cell_type": "code",
      "source": [
        "dim1 = []\n",
        "dim2 = []\n",
        "for name in os.listdir('/content/drive/MyDrive/grzyby1/data/train/jadalne'):\n",
        "    \n",
        "    img = imread('/content/drive/MyDrive/grzyby1/data/train/jadalne'+'/'+name)\n",
        "    d1,d2,colors = img.shape\n",
        "    dim1.append(d1)\n",
        "    dim2.append(d2)"
      ],
      "metadata": {
        "id": "9BM4OJVSro0Z"
      },
      "execution_count": null,
      "outputs": []
    },
    {
      "cell_type": "code",
      "source": [
        "np.mean(dim1)"
      ],
      "metadata": {
        "colab": {
          "base_uri": "https://localhost:8080/"
        },
        "id": "4e7BAcTAs24e",
        "outputId": "1c71cdd5-61e0-49a2-a5c5-7cd8c21338a9"
      },
      "execution_count": null,
      "outputs": [
        {
          "output_type": "execute_result",
          "data": {
            "text/plain": [
              "115.0"
            ]
          },
          "metadata": {},
          "execution_count": 87
        }
      ]
    },
    {
      "cell_type": "code",
      "source": [
        "np.mean(dim2)"
      ],
      "metadata": {
        "colab": {
          "base_uri": "https://localhost:8080/"
        },
        "id": "DSmFt3uJs3g_",
        "outputId": "551cb3b6-8a80-4274-ceaa-0241da6f506c"
      },
      "execution_count": null,
      "outputs": [
        {
          "output_type": "execute_result",
          "data": {
            "text/plain": [
              "170.03676470588235"
            ]
          },
          "metadata": {},
          "execution_count": 88
        }
      ]
    },
    {
      "cell_type": "code",
      "source": [
        "image_shape = (115,170,3)"
      ],
      "metadata": {
        "id": "qRxrVVVks7rX"
      },
      "execution_count": null,
      "outputs": []
    },
    {
      "cell_type": "code",
      "source": [
        "batch_size=24"
      ],
      "metadata": {
        "id": "VGcJb3uutOQG"
      },
      "execution_count": null,
      "outputs": []
    },
    {
      "cell_type": "code",
      "source": [
        "image_gen.flow_from_directory('/content/drive/MyDrive/grzyby1/data/train')"
      ],
      "metadata": {
        "colab": {
          "base_uri": "https://localhost:8080/"
        },
        "id": "i7fHAhs_qvNm",
        "outputId": "f63eeab3-50a3-4a6d-9c60-def606c526f3"
      },
      "execution_count": null,
      "outputs": [
        {
          "output_type": "stream",
          "name": "stdout",
          "text": [
            "Found 315 images belonging to 3 classes.\n"
          ]
        },
        {
          "output_type": "execute_result",
          "data": {
            "text/plain": [
              "<keras.preprocessing.image.DirectoryIterator at 0x7fd6e4a12cb0>"
            ]
          },
          "metadata": {},
          "execution_count": 92
        }
      ]
    },
    {
      "cell_type": "code",
      "source": [
        "image_gen.flow_from_directory('/content/drive/MyDrive/grzyby1/data/test')"
      ],
      "metadata": {
        "colab": {
          "base_uri": "https://localhost:8080/"
        },
        "id": "qQoVHV7Vq4Am",
        "outputId": "dcc25f97-f73e-4fbe-ca6f-38931e120dbb"
      },
      "execution_count": null,
      "outputs": [
        {
          "output_type": "stream",
          "name": "stdout",
          "text": [
            "Found 137 images belonging to 3 classes.\n"
          ]
        },
        {
          "output_type": "execute_result",
          "data": {
            "text/plain": [
              "<keras.preprocessing.image.DirectoryIterator at 0x7fd6e4a133a0>"
            ]
          },
          "metadata": {},
          "execution_count": 93
        }
      ]
    },
    {
      "cell_type": "code",
      "source": [
        "train_image_gen = image_gen.flow_from_directory('/content/drive/MyDrive/grzyby1/data/train',\n",
        "                                               target_size=image_shape[:2],\n",
        "                                                color_mode='rgb',\n",
        "                                               batch_size=batch_size,\n",
        "                                               class_mode='categorical')"
      ],
      "metadata": {
        "colab": {
          "base_uri": "https://localhost:8080/"
        },
        "id": "IN-nCu0urT3H",
        "outputId": "d7a10a2e-0ce2-4023-fc20-0f8cceb72c2c"
      },
      "execution_count": null,
      "outputs": [
        {
          "output_type": "stream",
          "name": "stdout",
          "text": [
            "Found 315 images belonging to 3 classes.\n"
          ]
        }
      ]
    },
    {
      "cell_type": "code",
      "source": [
        "test_image_gen = image_gen.flow_from_directory('/content/drive/MyDrive/grzyby1/data/test',\n",
        "                                               target_size=image_shape[:2],\n",
        "                                               color_mode='rgb',\n",
        "                                               batch_size=batch_size,\n",
        "                                               class_mode='categorical',shuffle=False)"
      ],
      "metadata": {
        "colab": {
          "base_uri": "https://localhost:8080/"
        },
        "id": "0uKEQnIktckd",
        "outputId": "9d2b576e-821b-4f0d-8a7b-fcb9728af902"
      },
      "execution_count": null,
      "outputs": [
        {
          "output_type": "stream",
          "name": "stdout",
          "text": [
            "Found 137 images belonging to 3 classes.\n"
          ]
        }
      ]
    },
    {
      "cell_type": "code",
      "source": [
        "train_image_gen.class_indices"
      ],
      "metadata": {
        "colab": {
          "base_uri": "https://localhost:8080/"
        },
        "id": "LQ6MKJRvtm2u",
        "outputId": "76d3f3ce-f578-4dc7-bd19-ebbc9c3658af"
      },
      "execution_count": null,
      "outputs": [
        {
          "output_type": "execute_result",
          "data": {
            "text/plain": [
              "{'jadalne': 0, 'niejadalne': 1, 'trujace': 2}"
            ]
          },
          "metadata": {},
          "execution_count": 134
        }
      ]
    },
    {
      "cell_type": "code",
      "source": [
        "model = Sequential()\n",
        "\n",
        "model.add(layers.Conv2D(filters=32, kernel_size=(3,3),input_shape=image_shape, activation='relu',))\n",
        "model.add(layers.MaxPooling2D(pool_size=(2, 2)))\n",
        "\n",
        "model.add(layers.Conv2D(filters=64, kernel_size=(3,3),input_shape=image_shape, activation='relu',))\n",
        "model.add(layers.MaxPooling2D(pool_size=(2, 2)))\n",
        "\n",
        "model.add(layers.Conv2D(filters=64, kernel_size=(3,3),input_shape=image_shape, activation='relu',))\n",
        "model.add(layers.MaxPooling2D(pool_size=(2, 2)))\n",
        "\n",
        "\n",
        "model.add(layers.Flatten())\n",
        "\n",
        "\n",
        "model.add(layers.Dense(128))\n",
        "model.add(layers.Activation('relu'))\n",
        "\n",
        "model.add(layers.Dropout(0.5))\n",
        "\n",
        "\n",
        "model.add(layers.Dense(3))\n",
        "model.add(layers.Activation('softmax'))\n",
        "\n",
        "model.compile(loss='categorical_crossentropy',\n",
        "              optimizer='adam',\n",
        "              metrics=['accuracy'])"
      ],
      "metadata": {
        "id": "pXQJknlvyjb6"
      },
      "execution_count": null,
      "outputs": []
    },
    {
      "cell_type": "code",
      "source": [
        "early_stop = EarlyStopping(monitor='val_loss',patience=10)"
      ],
      "metadata": {
        "id": "s3zpBZ-LBmVo"
      },
      "execution_count": null,
      "outputs": []
    },
    {
      "cell_type": "code",
      "source": [
        "history = model.fit(train_image_gen,epochs=200,\n",
        "                              validation_data=test_image_gen,\n",
        "                             callbacks=[early_stop])"
      ],
      "metadata": {
        "id": "pCovtyerzm8o"
      },
      "execution_count": null,
      "outputs": []
    },
    {
      "cell_type": "code",
      "source": [
        "my_image = image.load_img('/content/drive/MyDrive/grzyby1/data/train/trujace/800px-paxillus-involutus-g2 mini.jpg',target_size=image_shape)"
      ],
      "metadata": {
        "id": "_TKFMVQE-fQy"
      },
      "execution_count": null,
      "outputs": []
    },
    {
      "cell_type": "code",
      "source": [
        "my_image = image.img_to_array(my_image)"
      ],
      "metadata": {
        "id": "ndhMtUFvzxPp"
      },
      "execution_count": null,
      "outputs": []
    },
    {
      "cell_type": "code",
      "source": [
        "my_image = np.expand_dims(my_image, axis=0)"
      ],
      "metadata": {
        "id": "jrA1_JRT17FC"
      },
      "execution_count": null,
      "outputs": []
    },
    {
      "cell_type": "code",
      "source": [
        "my_image.shape"
      ],
      "metadata": {
        "id": "Q-eCSZ-iBrI9"
      },
      "execution_count": null,
      "outputs": []
    },
    {
      "cell_type": "code",
      "source": [
        "predict=model.predict(my_image)\n",
        "predictions=np.argmax(predict,axis=1)"
      ],
      "metadata": {
        "id": "QQzz_HUH_Dfq"
      },
      "execution_count": null,
      "outputs": []
    },
    {
      "cell_type": "code",
      "source": [
        "predictions"
      ],
      "metadata": {
        "colab": {
          "base_uri": "https://localhost:8080/"
        },
        "id": "czoJQDV1DG9e",
        "outputId": "892b0960-7a33-4a4e-bb1d-a40d1678856a"
      },
      "execution_count": null,
      "outputs": [
        {
          "output_type": "execute_result",
          "data": {
            "text/plain": [
              "array([1])"
            ]
          },
          "metadata": {},
          "execution_count": 155
        }
      ]
    },
    {
      "cell_type": "code",
      "source": [],
      "metadata": {
        "id": "JKuNwRnRynI7"
      },
      "execution_count": null,
      "outputs": []
    }
  ]
}