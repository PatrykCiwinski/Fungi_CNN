{
  "nbformat": 4,
  "nbformat_minor": 0,
  "metadata": {
    "colab": {
      "provenance": [],
      "gpuType": "T4",
      "mount_file_id": "https://gist.github.com/PatrykCiwinski/33392465f4a92a29c55aab4d59416f80#file-grzyby-ipynb",
      "authorship_tag": "ABX9TyNzKDQmDjtqy7V+6u2/yp7E",
      "include_colab_link": true
    },
    "kernelspec": {
      "name": "python3",
      "display_name": "Python 3"
    },
    "language_info": {
      "name": "python"
    },
    "accelerator": "GPU",
    "gpuClass": "standard"
  },
  "cells": [
    {
      "cell_type": "markdown",
      "metadata": {
        "id": "view-in-github",
        "colab_type": "text"
      },
      "source": [
        "<a href=\"https://colab.research.google.com/github/PatrykCiwinski/Fungi_CNN/blob/main/grzyby.ipynb\" target=\"_parent\"><img src=\"https://colab.research.google.com/assets/colab-badge.svg\" alt=\"Open In Colab\"/></a>"
      ]
    },
    {
      "cell_type": "code",
      "execution_count": 11,
      "metadata": {
        "id": "i9cf1SaH0Ch1"
      },
      "outputs": [],
      "source": [
        "import requests\n",
        "from bs4 import BeautifulSoup\n",
        "from PIL import Image\n",
        "from io import BytesIO\n",
        "import os\n",
        "import random\n",
        "import numpy as np\n",
        "from numpy import asarray\n",
        "import matplotlib.pyplot as plt\n",
        "from matplotlib.image import imread\n",
        "import pandas as pd\n",
        "import seaborn as sns"
      ]
    },
    {
      "cell_type": "code",
      "source": [
        "podkategoria = 'grzyby'\n",
        "tagi = 'jadalne'\n",
        "strona = 1"
      ],
      "metadata": {
        "id": "mOUMb7dD0U6o"
      },
      "execution_count": 12,
      "outputs": []
    },
    {
      "cell_type": "code",
      "source": [
        "url = f'https://www.ekologia.pl/wiedza/grzyby/tagi,{tagi},s{strona}'"
      ],
      "metadata": {
        "id": "5F_el4dOaEfD"
      },
      "execution_count": 13,
      "outputs": []
    },
    {
      "cell_type": "code",
      "source": [
        "response = requests.get(url)\n",
        "content = response.content"
      ],
      "metadata": {
        "id": "QMqwjY52aGnr"
      },
      "execution_count": 14,
      "outputs": []
    },
    {
      "cell_type": "code",
      "source": [
        "soup = BeautifulSoup(content, 'html.parser')\n",
        "imgs = soup.select('div.pro_eko img')\n",
        "urls = [img['src'] for img in imgs]"
      ],
      "metadata": {
        "id": "IhnaH6L_aKUC"
      },
      "execution_count": 15,
      "outputs": []
    },
    {
      "cell_type": "code",
      "source": [
        "urls"
      ],
      "metadata": {
        "colab": {
          "base_uri": "https://localhost:8080/"
        },
        "id": "fltvNgevfHYA",
        "outputId": "6bb3ba47-bd45-449a-d75f-efe181eca74a"
      },
      "execution_count": 16,
      "outputs": [
        {
          "output_type": "execute_result",
          "data": {
            "text/plain": [
              "['https://zasoby.ekologia.pl/grzyby/a/301/shutterstock-1349274215_mini.jpg',\n",
              " 'https://zasoby.ekologia.pl/grzyby/a/266/shutterstock-701949721_mini.jpg',\n",
              " 'https://zasoby.ekologia.pl/grzyby/a/2/640px-boletus-impolitus_mini.jpg',\n",
              " 'https://zasoby.ekologia.pl/grzyby/a/302/shutterstock-1566904369_mini.jpg',\n",
              " 'https://zasoby.ekologia.pl/grzyby/a/11/6-borowik-szlachetny-boletus-edulis_mini.jpg',\n",
              " 'https://zasoby.ekologia.pl/grzyby/a/5/1280px-boletus_mini.jpg',\n",
              " 'https://zasoby.ekologia.pl/grzyby/a/254/800px-Butyriboletus-persolidus-72425-Novato-California-20091109-retouched_mini.jpg',\n",
              " 'https://zasoby.ekologia.pl/grzyby/a/67/800px-hand-utri_mini.jpg',\n",
              " 'https://zasoby.ekologia.pl/grzyby/a/68/czernidlak-kolpakowaty_mini.jpg',\n",
              " 'https://zasoby.ekologia.pl/grzyby/a/69/shutterstock-1824266690_mini.jpg',\n",
              " 'https://zasoby.ekologia.pl/grzyby/a/228/shutterstock-1568489815_mini.jpg',\n",
              " 'https://zasoby.ekologia.pl/grzyby/a/129/px-Chlorophyllum_rachodes_mini.jpg']"
            ]
          },
          "metadata": {},
          "execution_count": 16
        }
      ]
    },
    {
      "cell_type": "code",
      "source": [
        "response = requests.get(urls[5])\n",
        "content = response.content"
      ],
      "metadata": {
        "id": "vv0RCvuYadmS"
      },
      "execution_count": 17,
      "outputs": []
    },
    {
      "cell_type": "code",
      "source": [
        "img = Image.open(BytesIO(content))"
      ],
      "metadata": {
        "id": "cPT5SxLyalmh"
      },
      "execution_count": 18,
      "outputs": []
    },
    {
      "cell_type": "code",
      "source": [
        "img.save('grzybnia5.jpg')"
      ],
      "metadata": {
        "id": "zqXt76CzaoTp"
      },
      "execution_count": 19,
      "outputs": []
    },
    {
      "cell_type": "code",
      "source": [
        "def get_page(tagi,\n",
        "             strona):\n",
        "  \n",
        "  url = f'https://www.ekologia.pl/wiedza/grzyby/tagi,{tagi},s{strona}' \n",
        "  response = requests.get(url)\n",
        "  content = response.content\n",
        "  return content\n",
        "\n",
        "\n",
        "def parse_imgs_url(content):\n",
        "  soup = BeautifulSoup(content, 'html.parser')\n",
        "  imgs = soup.select('div.pro_eko img')\n",
        "  return [img['src'] for img in imgs]\n",
        "\n",
        "\n",
        "def get_image(url, path, tagi):\n",
        "    response = requests.get(url)\n",
        "    content = response.content\n",
        "    img = Image.open(BytesIO(content))\n",
        "    os.makedirs(f'{path}/{tagi}', exist_ok=True)\n",
        "    name=url.split('/')[-1].split('.')[0].split('_')[:2]\n",
        "    name=' '.join(map(str, name))\n",
        "    img.save(f'{path}/{tagi}/{name}.jpg')\n",
        "\n",
        "\n",
        "def get_data(tagi,\n",
        "             start_page,\n",
        "             end_page,\n",
        "             path):\n",
        "  \n",
        "  for strona in range(start_page, end_page + 1):\n",
        "    content = get_page(tagi, strona)\n",
        "    urls = parse_imgs_url(content)\n",
        "\n",
        "    for i, url in enumerate(urls):\n",
        "      get_image(url, path, tagi)\n",
        "      if i % 2 == 0:\n",
        "        print(f'Downloaded {i} for page {strona} from {tagi}')"
      ],
      "metadata": {
        "id": "AE66E48xb8XF"
      },
      "execution_count": 20,
      "outputs": []
    },
    {
      "cell_type": "code",
      "source": [
        "def get_first_page(tagi):\n",
        "  \n",
        "  url = f'https://www.ekologia.pl/wiedza/grzyby/tagi,{tagi}' \n",
        "  response = requests.get(url)\n",
        "  content = response.content\n",
        "  return content\n",
        "\n",
        "\n",
        "def get_data_first_page(tagi,\n",
        "             path):\n",
        "    content = get_first_page(tagi)\n",
        "    urls = parse_imgs_url(content)\n",
        "  "
      ],
      "metadata": {
        "id": "-D4scmTN4bTU"
      },
      "execution_count": 21,
      "outputs": []
    },
    {
      "cell_type": "code",
      "source": [
        "data_path = '/content/drive/MyDrive/grzyby1/data/train'"
      ],
      "metadata": {
        "id": "DsMU1HFH9zoz"
      },
      "execution_count": 22,
      "outputs": []
    },
    {
      "cell_type": "code",
      "source": [
        "get_data('jadalne',1,16,path = data_path)"
      ],
      "metadata": {
        "id": "b1LT1-2xUX7n"
      },
      "execution_count": null,
      "outputs": []
    },
    {
      "cell_type": "code",
      "source": [
        "get_data('niejadalne',1,16,path = data_path)"
      ],
      "metadata": {
        "id": "vFRFW4PmqK4q"
      },
      "execution_count": null,
      "outputs": []
    },
    {
      "cell_type": "code",
      "source": [
        "get_data('trujace',1,16,path = data_path)"
      ],
      "metadata": {
        "id": "yuT8AL3NFSC6"
      },
      "execution_count": null,
      "outputs": []
    },
    {
      "cell_type": "code",
      "source": [
        "get_data_first_page('jadalne',path = data_path)"
      ],
      "metadata": {
        "id": "frhkDSzG48Vy"
      },
      "execution_count": 26,
      "outputs": []
    },
    {
      "cell_type": "code",
      "source": [
        "get_data_first_page('niejadalne',path = data_path)"
      ],
      "metadata": {
        "id": "M7zuoV6_48NW"
      },
      "execution_count": 27,
      "outputs": []
    },
    {
      "cell_type": "code",
      "source": [
        "get_data_first_page('trujace',path = data_path)"
      ],
      "metadata": {
        "id": "4n4pH1MUFo62"
      },
      "execution_count": 28,
      "outputs": []
    },
    {
      "cell_type": "code",
      "source": [
        "data_path = '/content/drive/MyDrive/grzyby1/data'\n",
        "os.makedirs(data_path + '/test', exist_ok=True)\n",
        "test_size = 0.2\n",
        "\n",
        "for subcategory in ['jadalne', 'niejadalne', 'trujace']:\n",
        "  os.makedirs(data_path + '/test/' + subcategory, exist_ok=True)\n",
        "  file_list = os.listdir(data_path + '/train/' + subcategory)\n",
        "  number_of_samples = int(len(file_list) * test_size)\n",
        "  for file_name in random.sample(file_list, number_of_samples):\n",
        "    os.rename(data_path + '/train/' + subcategory + '/' + file_name,\n",
        "              data_path + '/test/' + subcategory + '/' + file_name)"
      ],
      "metadata": {
        "id": "CFH7BDWhA1zW"
      },
      "execution_count": 29,
      "outputs": []
    },
    {
      "cell_type": "code",
      "source": [
        "len(os.listdir(data_path + '/test/jadalne'))"
      ],
      "metadata": {
        "colab": {
          "base_uri": "https://localhost:8080/"
        },
        "id": "UbZU8QBuwmSY",
        "outputId": "2166e9d3-0536-4727-b518-eeb7c37ea0d8"
      },
      "execution_count": 31,
      "outputs": [
        {
          "output_type": "execute_result",
          "data": {
            "text/plain": [
              "35"
            ]
          },
          "metadata": {},
          "execution_count": 31
        }
      ]
    },
    {
      "cell_type": "code",
      "source": [
        "from tensorflow import keras"
      ],
      "metadata": {
        "id": "QXIVZNSyw2_p"
      },
      "execution_count": 32,
      "outputs": []
    },
    {
      "cell_type": "code",
      "source": [
        "import tensorflow as tf\n",
        "from tensorflow.keras.models import Sequential\n",
        "from tensorflow.keras import layers\n",
        "from tensorflow.keras.callbacks import EarlyStopping\n",
        "import keras.utils as image\n",
        "from tensorflow.keras.preprocessing.image import ImageDataGenerator"
      ],
      "metadata": {
        "id": "vPc2mpxCxxGL"
      },
      "execution_count": 33,
      "outputs": []
    },
    {
      "cell_type": "code",
      "source": [
        "image_gen = ImageDataGenerator(rotation_range=10,\n",
        "                     width_shift_range=0.05,\n",
        "                     height_shift_range=0.05,\n",
        "                     zoom_range=0.2,fill_mode='nearest')"
      ],
      "metadata": {
        "id": "bZSQ4VkvqdwJ"
      },
      "execution_count": 147,
      "outputs": []
    },
    {
      "cell_type": "code",
      "source": [
        "dim1 = []\n",
        "dim2 = []\n",
        "for name in os.listdir('/content/drive/MyDrive/grzyby1/data/train/jadalne'):\n",
        "    \n",
        "    img = imread('/content/drive/MyDrive/grzyby1/data/train/jadalne'+'/'+name)\n",
        "    d1,d2,colors = img.shape\n",
        "    dim1.append(d1)\n",
        "    dim2.append(d2)"
      ],
      "metadata": {
        "id": "9BM4OJVSro0Z"
      },
      "execution_count": 102,
      "outputs": []
    },
    {
      "cell_type": "code",
      "source": [
        "np.mean(dim1)"
      ],
      "metadata": {
        "colab": {
          "base_uri": "https://localhost:8080/"
        },
        "id": "4e7BAcTAs24e",
        "outputId": "23fd1746-e9e7-4a41-cbc9-17b4be0ca449"
      },
      "execution_count": 103,
      "outputs": [
        {
          "output_type": "execute_result",
          "data": {
            "text/plain": [
              "115.0"
            ]
          },
          "metadata": {},
          "execution_count": 103
        }
      ]
    },
    {
      "cell_type": "code",
      "source": [
        "np.mean(dim2)"
      ],
      "metadata": {
        "colab": {
          "base_uri": "https://localhost:8080/"
        },
        "id": "DSmFt3uJs3g_",
        "outputId": "a93b6ff2-8ca3-415c-bdc4-de644f8ee2c6"
      },
      "execution_count": 104,
      "outputs": [
        {
          "output_type": "execute_result",
          "data": {
            "text/plain": [
              "170.03521126760563"
            ]
          },
          "metadata": {},
          "execution_count": 104
        }
      ]
    },
    {
      "cell_type": "code",
      "source": [
        "image_shape = (115,170,3)"
      ],
      "metadata": {
        "id": "qRxrVVVks7rX"
      },
      "execution_count": 105,
      "outputs": []
    },
    {
      "cell_type": "code",
      "source": [
        "batch_size=16"
      ],
      "metadata": {
        "id": "VGcJb3uutOQG"
      },
      "execution_count": 106,
      "outputs": []
    },
    {
      "cell_type": "code",
      "source": [
        "train_image_gen = image_gen.flow_from_directory('/content/drive/MyDrive/grzyby1/data/train',\n",
        "                                               target_size=image_shape[:2],\n",
        "                                                color_mode='rgb',\n",
        "                                               batch_size=batch_size,\n",
        "                                               class_mode='categorical')"
      ],
      "metadata": {
        "colab": {
          "base_uri": "https://localhost:8080/"
        },
        "id": "IN-nCu0urT3H",
        "outputId": "1982e52d-8e61-4bc6-ca88-358395f09ae2"
      },
      "execution_count": 148,
      "outputs": [
        {
          "output_type": "stream",
          "name": "stdout",
          "text": [
            "Found 321 images belonging to 3 classes.\n"
          ]
        }
      ]
    },
    {
      "cell_type": "code",
      "source": [
        "test_image_gen = image_gen.flow_from_directory('/content/drive/MyDrive/grzyby1/data/test',\n",
        "                                               target_size=image_shape[:2],\n",
        "                                               color_mode='rgb',\n",
        "                                               batch_size=batch_size,\n",
        "                                               class_mode='categorical',shuffle=False)"
      ],
      "metadata": {
        "colab": {
          "base_uri": "https://localhost:8080/"
        },
        "id": "0uKEQnIktckd",
        "outputId": "62931e5e-1acb-4b05-c47d-a8759714435c"
      },
      "execution_count": 149,
      "outputs": [
        {
          "output_type": "stream",
          "name": "stdout",
          "text": [
            "Found 78 images belonging to 3 classes.\n"
          ]
        }
      ]
    },
    {
      "cell_type": "code",
      "source": [
        "train_image_gen.class_indices"
      ],
      "metadata": {
        "colab": {
          "base_uri": "https://localhost:8080/"
        },
        "id": "LQ6MKJRvtm2u",
        "outputId": "e3d36125-fa69-4b89-f8b4-cdd8bc736c4c"
      },
      "execution_count": 150,
      "outputs": [
        {
          "output_type": "execute_result",
          "data": {
            "text/plain": [
              "{'jadalne': 0, 'niejadalne': 1, 'trujace': 2}"
            ]
          },
          "metadata": {},
          "execution_count": 150
        }
      ]
    },
    {
      "cell_type": "code",
      "source": [
        "model = Sequential()\n",
        "\n",
        "model.add(layers.Conv2D(filters=32, kernel_size=(3,3),input_shape=image_shape, activation='relu',))\n",
        "model.add(layers.MaxPooling2D(pool_size=(2, 2)))\n",
        "\n",
        "model.add(layers.Conv2D(filters=64, kernel_size=(3,3),input_shape=image_shape, activation='relu',))\n",
        "model.add(layers.MaxPooling2D(pool_size=(2, 2)))\n",
        "\n",
        "model.add(layers.Conv2D(filters=64, kernel_size=(3,3),input_shape=image_shape, activation='relu',))\n",
        "model.add(layers.MaxPooling2D(pool_size=(2, 2)))\n",
        "\n",
        "\n",
        "model.add(layers.Flatten())\n",
        "\n",
        "\n",
        "model.add(layers.Dense(128))\n",
        "model.add(layers.Activation('relu'))\n",
        "\n",
        "model.add(layers.Dropout(0.5))\n",
        "\n",
        "\n",
        "model.add(layers.Dense(3))\n",
        "model.add(layers.Activation('softmax'))\n",
        "\n",
        "model.compile(loss='categorical_crossentropy',\n",
        "              optimizer='adam',\n",
        "              metrics=['accuracy'])"
      ],
      "metadata": {
        "id": "pXQJknlvyjb6"
      },
      "execution_count": 151,
      "outputs": []
    },
    {
      "cell_type": "code",
      "source": [
        "early_stop = EarlyStopping(monitor='val_accuracy',patience=3)"
      ],
      "metadata": {
        "id": "s3zpBZ-LBmVo"
      },
      "execution_count": 152,
      "outputs": []
    },
    {
      "cell_type": "code",
      "source": [
        "history = model.fit(train_image_gen,epochs=20,\n",
        "                              validation_data=test_image_gen,\n",
        "                             callbacks=[early_stop])"
      ],
      "metadata": {
        "id": "pCovtyerzm8o",
        "colab": {
          "base_uri": "https://localhost:8080/"
        },
        "outputId": "926d3709-cccd-437a-8407-9c972938fae4"
      },
      "execution_count": 153,
      "outputs": [
        {
          "output_type": "stream",
          "name": "stdout",
          "text": [
            "Epoch 1/20\n",
            "21/21 [==============================] - 4s 104ms/step - loss: 15.7187 - accuracy: 0.4112 - val_loss: 1.0752 - val_accuracy: 0.4359\n",
            "Epoch 2/20\n",
            "21/21 [==============================] - 2s 98ms/step - loss: 1.0572 - accuracy: 0.4642 - val_loss: 1.0736 - val_accuracy: 0.3974\n",
            "Epoch 3/20\n",
            "21/21 [==============================] - 3s 131ms/step - loss: 1.0637 - accuracy: 0.4642 - val_loss: 1.0626 - val_accuracy: 0.3846\n",
            "Epoch 4/20\n",
            "21/21 [==============================] - 2s 94ms/step - loss: 1.0287 - accuracy: 0.4735 - val_loss: 1.0363 - val_accuracy: 0.4103\n"
          ]
        }
      ]
    },
    {
      "cell_type": "code",
      "source": [
        "my_image = image.load_img('/content/drive/MyDrive/grzyby1/data/test/trujace/muchomor mini.jpg',target_size=image_shape)"
      ],
      "metadata": {
        "id": "_TKFMVQE-fQy"
      },
      "execution_count": 154,
      "outputs": []
    },
    {
      "cell_type": "code",
      "source": [
        "my_image = image.img_to_array(my_image)"
      ],
      "metadata": {
        "id": "ndhMtUFvzxPp"
      },
      "execution_count": 155,
      "outputs": []
    },
    {
      "cell_type": "code",
      "source": [
        "my_image = np.expand_dims(my_image, axis=0)"
      ],
      "metadata": {
        "id": "jrA1_JRT17FC"
      },
      "execution_count": 156,
      "outputs": []
    },
    {
      "cell_type": "code",
      "source": [
        "my_image.shape"
      ],
      "metadata": {
        "id": "Q-eCSZ-iBrI9",
        "colab": {
          "base_uri": "https://localhost:8080/"
        },
        "outputId": "921e2fa5-d357-46ca-be98-bf9725e98f1f"
      },
      "execution_count": 157,
      "outputs": [
        {
          "output_type": "execute_result",
          "data": {
            "text/plain": [
              "(1, 115, 170, 3)"
            ]
          },
          "metadata": {},
          "execution_count": 157
        }
      ]
    },
    {
      "cell_type": "code",
      "source": [
        "predict=model.predict(my_image)\n",
        "predictions=np.argmax(predict,axis=1)"
      ],
      "metadata": {
        "id": "QQzz_HUH_Dfq",
        "colab": {
          "base_uri": "https://localhost:8080/"
        },
        "outputId": "c410017d-7beb-49b3-b581-ec81fdf75f7a"
      },
      "execution_count": 158,
      "outputs": [
        {
          "output_type": "stream",
          "name": "stderr",
          "text": [
            "WARNING:tensorflow:5 out of the last 21 calls to <function Model.make_predict_function.<locals>.predict_function at 0x7f61642f2d40> triggered tf.function retracing. Tracing is expensive and the excessive number of tracings could be due to (1) creating @tf.function repeatedly in a loop, (2) passing tensors with different shapes, (3) passing Python objects instead of tensors. For (1), please define your @tf.function outside of the loop. For (2), @tf.function has reduce_retracing=True option that can avoid unnecessary retracing. For (3), please refer to https://www.tensorflow.org/guide/function#controlling_retracing and https://www.tensorflow.org/api_docs/python/tf/function for  more details.\n"
          ]
        },
        {
          "output_type": "stream",
          "name": "stdout",
          "text": [
            "1/1 [==============================] - 0s 88ms/step\n"
          ]
        }
      ]
    },
    {
      "cell_type": "code",
      "source": [
        "predictions"
      ],
      "metadata": {
        "colab": {
          "base_uri": "https://localhost:8080/"
        },
        "id": "czoJQDV1DG9e",
        "outputId": "d4f0f5f9-75a1-4fbd-b592-7273e0b58e79"
      },
      "execution_count": 159,
      "outputs": [
        {
          "output_type": "execute_result",
          "data": {
            "text/plain": [
              "array([0])"
            ]
          },
          "metadata": {},
          "execution_count": 159
        }
      ]
    },
    {
      "cell_type": "code",
      "source": [
        "test_image_gen.class_indices"
      ],
      "metadata": {
        "id": "JKuNwRnRynI7",
        "colab": {
          "base_uri": "https://localhost:8080/"
        },
        "outputId": "9a45b030-4d62-4c5e-bcd9-ad0e702e5871"
      },
      "execution_count": 119,
      "outputs": [
        {
          "output_type": "execute_result",
          "data": {
            "text/plain": [
              "{'jadalne': 0, 'niejadalne': 1, 'trujace': 2}"
            ]
          },
          "metadata": {},
          "execution_count": 119
        }
      ]
    },
    {
      "cell_type": "code",
      "source": [
        "result=pd.DataFrame(history.history)"
      ],
      "metadata": {
        "id": "hPn38QgICJMl"
      },
      "execution_count": 120,
      "outputs": []
    },
    {
      "cell_type": "code",
      "source": [
        "result[['val_accuracy','accuracy']].plot()"
      ],
      "metadata": {
        "id": "sn78eLrDCRuF",
        "outputId": "bf9478bf-926a-4bab-b6c1-1e5206147bd3",
        "colab": {
          "base_uri": "https://localhost:8080/",
          "height": 447
        }
      },
      "execution_count": 121,
      "outputs": [
        {
          "output_type": "execute_result",
          "data": {
            "text/plain": [
              "<Axes: >"
            ]
          },
          "metadata": {},
          "execution_count": 121
        },
        {
          "output_type": "display_data",
          "data": {
            "text/plain": [
              "<Figure size 640x480 with 1 Axes>"
            ],
            "image/png": "[encoded data removed]"
          },
          "metadata": {}
        }
      ]
    },
    {
      "cell_type": "code",
      "source": [
        "result[['val_loss','loss']].plot()"
      ],
      "metadata": {
        "id": "ekPSuOMbCfPJ",
        "outputId": "b65c52ef-291b-4113-84f6-f46d15a64752",
        "colab": {
          "base_uri": "https://localhost:8080/",
          "height": 449
        }
      },
      "execution_count": 122,
      "outputs": [
        {
          "output_type": "execute_result",
          "data": {
            "text/plain": [
              "<Axes: >"
            ]
          },
          "metadata": {},
          "execution_count": 122
        },
        {
          "output_type": "display_data",
          "data": {
            "text/plain": [
              "<Figure size 640x480 with 1 Axes>"
            ],
            "image/png": "[encoded data removed]"
          },
          "metadata": {}
        }
      ]
    },
    {
      "cell_type": "code",
      "source": [
        "from sklearn.metrics import classification_report"
      ],
      "metadata": {
        "id": "xtzg_C_1BkRU"
      },
      "execution_count": 123,
      "outputs": []
    },
    {
      "cell_type": "code",
      "source": [
        "predict = model.predict(test_image_gen)"
      ],
      "metadata": {
        "id": "4oyKy-SBB0YU",
        "outputId": "709e1070-871e-473f-a2fe-f4cefae9c5a0",
        "colab": {
          "base_uri": "https://localhost:8080/"
        }
      },
      "execution_count": 160,
      "outputs": [
        {
          "output_type": "stream",
          "name": "stderr",
          "text": [
            "WARNING:tensorflow:6 out of the last 22 calls to <function Model.make_predict_function.<locals>.predict_function at 0x7f61642f2d40> triggered tf.function retracing. Tracing is expensive and the excessive number of tracings could be due to (1) creating @tf.function repeatedly in a loop, (2) passing tensors with different shapes, (3) passing Python objects instead of tensors. For (1), please define your @tf.function outside of the loop. For (2), @tf.function has reduce_retracing=True option that can avoid unnecessary retracing. For (3), please refer to https://www.tensorflow.org/guide/function#controlling_retracing and https://www.tensorflow.org/api_docs/python/tf/function for  more details.\n"
          ]
        },
        {
          "output_type": "stream",
          "name": "stdout",
          "text": [
            "5/5 [==============================] - 0s 73ms/step\n"
          ]
        }
      ]
    },
    {
      "cell_type": "code",
      "source": [
        "predictions=np.argmax(predict,axis=1)"
      ],
      "metadata": {
        "id": "ml3QTO4xB4H9"
      },
      "execution_count": 161,
      "outputs": []
    },
    {
      "cell_type": "code",
      "source": [
        "print(classification_report(test_image_gen.classes,predictions))"
      ],
      "metadata": {
        "id": "k04Hcmf0B72i",
        "outputId": "1e606217-168a-4c66-98f3-667ec8bd9811",
        "colab": {
          "base_uri": "https://localhost:8080/"
        }
      },
      "execution_count": 162,
      "outputs": [
        {
          "output_type": "stream",
          "name": "stdout",
          "text": [
            "              precision    recall  f1-score   support\n",
            "\n",
            "           0       0.62      0.23      0.33        35\n",
            "           1       0.45      0.85      0.59        34\n",
            "           2       0.00      0.00      0.00         9\n",
            "\n",
            "    accuracy                           0.47        78\n",
            "   macro avg       0.35      0.36      0.31        78\n",
            "weighted avg       0.47      0.47      0.40        78\n",
            "\n"
          ]
        },
        {
          "output_type": "stream",
          "name": "stderr",
          "text": [
            "/usr/local/lib/python3.10/dist-packages/sklearn/metrics/_classification.py:1344: UndefinedMetricWarning: Precision and F-score are ill-defined and being set to 0.0 in labels with no predicted samples. Use `zero_division` parameter to control this behavior.\n",
            "  _warn_prf(average, modifier, msg_start, len(result))\n",
            "/usr/local/lib/python3.10/dist-packages/sklearn/metrics/_classification.py:1344: UndefinedMetricWarning: Precision and F-score are ill-defined and being set to 0.0 in labels with no predicted samples. Use `zero_division` parameter to control this behavior.\n",
            "  _warn_prf(average, modifier, msg_start, len(result))\n",
            "/usr/local/lib/python3.10/dist-packages/sklearn/metrics/_classification.py:1344: UndefinedMetricWarning: Precision and F-score are ill-defined and being set to 0.0 in labels with no predicted samples. Use `zero_division` parameter to control this behavior.\n",
            "  _warn_prf(average, modifier, msg_start, len(result))\n"
          ]
        }
      ]
    },
    {
      "cell_type": "code",
      "source": [],
      "metadata": {
        "id": "xKLGNTt-CBCM"
      },
      "execution_count": null,
      "outputs": []
    }
  ]
}